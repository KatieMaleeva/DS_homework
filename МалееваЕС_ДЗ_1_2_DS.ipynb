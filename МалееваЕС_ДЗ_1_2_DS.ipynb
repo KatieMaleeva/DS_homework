{
  "nbformat": 4,
  "nbformat_minor": 0,
  "metadata": {
    "colab": {
      "name": "ДЗ_1_2_DS.ipynb",
      "provenance": [],
      "collapsed_sections": [],
      "toc_visible": true
    },
    "kernelspec": {
      "display_name": "Python 3",
      "language": "python",
      "name": "python3"
    },
    "language_info": {
      "codemirror_mode": {
        "name": "ipython",
        "version": 3
      },
      "file_extension": ".py",
      "mimetype": "text/x-python",
      "name": "python",
      "nbconvert_exporter": "python",
      "pygments_lexer": "ipython3",
      "version": "3.7.6"
    }
  },
  "cells": [
    {
      "cell_type": "markdown",
      "metadata": {
        "id": "lA_NeFbT9GK1"
      },
      "source": [
        "<h1 style=\"color:green\">Выполнил(а): ...</h1>"
      ]
    },
    {
      "cell_type": "markdown",
      "metadata": {
        "id": "M6n_8Kgn9YIT"
      },
      "source": [
        "# Несколько заданий на пройденный материал"
      ]
    },
    {
      "cell_type": "markdown",
      "metadata": {
        "id": "TT2xjEgu9nCx"
      },
      "source": [
        "*Подсказка!* проверяйте ваше решение по тому, что уже есть в блоках вывода ячеек"
      ]
    },
    {
      "cell_type": "markdown",
      "metadata": {
        "id": "vcySo4JE9GLD"
      },
      "source": [
        "<div style=\"background:red\">&nbsp;</div>\n",
        "<h1>Занятие 1</h1>\n",
        "<div style=\"background:red\">&nbsp;</div>"
      ]
    },
    {
      "cell_type": "markdown",
      "metadata": {
        "id": "p8V0RKCF94h6"
      },
      "source": [
        "## Задача 1\n",
        "\n",
        "Создайте переменную a = 10, возвести значение в 3 степень и найти остаток от деления на 3."
      ]
    },
    {
      "cell_type": "code",
      "metadata": {
        "colab": {
          "base_uri": "https://localhost:8080/"
        },
        "id": "_N-Bcj6D9300",
        "outputId": "a156a646-5eb2-4a5b-d7d3-ee530d4db5ca"
      },
      "source": [
        "a = 10\n",
        "res = (a**3)%3\n",
        "print(res)\n",
        "#short version\n",
        "a**3%3"
      ],
      "execution_count": null,
      "outputs": [
        {
          "output_type": "stream",
          "text": [
            "1\n"
          ],
          "name": "stdout"
        },
        {
          "output_type": "execute_result",
          "data": {
            "text/plain": [
              "1"
            ]
          },
          "metadata": {
            "tags": []
          },
          "execution_count": 1
        }
      ]
    },
    {
      "cell_type": "markdown",
      "metadata": {
        "id": "S2BzQt1E99Np"
      },
      "source": [
        "## Задача 2\n",
        "\n",
        "Найдите площадь круга с радиусом 1.23456.\n",
        "\n",
        "(Считаем π = 3.14)"
      ]
    },
    {
      "cell_type": "code",
      "metadata": {
        "colab": {
          "base_uri": "https://localhost:8080/",
          "height": 35
        },
        "id": "mkN8EOc098t9",
        "outputId": "287c4ff0-b8d7-4f38-9791-b7b8c3ec4b75"
      },
      "source": [
        "CONST_PI = 3.14\n",
        "var_rad = 1.23456\n",
        "S = CONST_PI * var_rad**2\n",
        "print(S)\n",
        "#short version\n",
        "3.14*(1.23456**2)"
      ],
      "execution_count": null,
      "outputs": [
        {
          "output_type": "execute_result",
          "data": {
            "text/plain": [
              "4.785794555904"
            ]
          },
          "metadata": {
            "tags": []
          },
          "execution_count": 67
        }
      ]
    },
    {
      "cell_type": "markdown",
      "metadata": {
        "id": "nP-f4Qd2-BTI"
      },
      "source": [
        "## Задача 3\n",
        "\n",
        "Найдите, истинно ли, что 2 в 10 степени больше 1000 при условии, что 4 в 7й степени меньше 8 в 5й.\n",
        "\n"
      ]
    },
    {
      "cell_type": "code",
      "metadata": {
        "colab": {
          "base_uri": "https://localhost:8080/",
          "height": 35
        },
        "id": "-reh5tB2-CPF",
        "outputId": "1778e92d-4a0b-4765-ac6f-ab6893dfbf2c"
      },
      "source": [
        "res = (2**10 > 1000) and (4**7 < 8**5)\n",
        "print(res)"
      ],
      "execution_count": null,
      "outputs": [
        {
          "output_type": "execute_result",
          "data": {
            "text/plain": [
              "True"
            ]
          },
          "metadata": {
            "tags": []
          },
          "execution_count": 68
        }
      ]
    },
    {
      "cell_type": "markdown",
      "metadata": {
        "id": "XcaKAyzZ-MOL"
      },
      "source": [
        "## Задача 4\n",
        "\n",
        "Мы принимаем целое число на ввод с клавиатуры (код предоставлен), вывести \"цена выше рынка\", если число выше 1200, \"цена ниже рыночной\", если число меньше 800 и \"все ок\" в остальных случаях."
      ]
    },
    {
      "cell_type": "code",
      "metadata": {
        "colab": {
          "base_uri": "https://localhost:8080/",
          "height": 52
        },
        "id": "3yLvK2JL-R1g",
        "outputId": "e7e02009-c04c-45f5-922b-9156130dad30"
      },
      "source": [
        "price = int(input('Введите цену товара: '))\n",
        "\n",
        "if price > 1200:\n",
        "    print('цена выше рынка')\n",
        "elif price < 800:\n",
        "    print('цена ниже рынка')\n",
        "else:\n",
        "    print('все ок')\n"
      ],
      "execution_count": null,
      "outputs": [
        {
          "output_type": "stream",
          "text": [
            "Введите цену товара: 1000\n",
            "все ок\n"
          ],
          "name": "stdout"
        }
      ]
    },
    {
      "cell_type": "markdown",
      "metadata": {
        "id": "lV0tQp8J-bFI"
      },
      "source": [
        "## Задача 5\n",
        "\n",
        "Распечатайте с 4 по 8 символ фразы \"Привет мир!\" приведенные к верхнему регистру."
      ]
    },
    {
      "cell_type": "code",
      "metadata": {
        "colab": {
          "base_uri": "https://localhost:8080/",
          "height": 35
        },
        "id": "ECKlo9c2-cue",
        "outputId": "ae700fee-f8b5-4547-861b-41be74b7153f"
      },
      "source": [
        "s = \"Привет мир!\"\n",
        "s[3:8].upper() #Это если имеется в виду именно 4 символ, а не индекс"
      ],
      "execution_count": null,
      "outputs": [
        {
          "output_type": "execute_result",
          "data": {
            "application/vnd.google.colaboratory.intrinsic+json": {
              "type": "string"
            },
            "text/plain": [
              "'ВЕТ М'"
            ]
          },
          "metadata": {
            "tags": []
          },
          "execution_count": 2
        }
      ]
    },
    {
      "cell_type": "markdown",
      "metadata": {
        "id": "2jN3PzaZ-gx4"
      },
      "source": [
        "## Задача 6\n",
        "\n",
        "Создайте переменную, которая хранит описание этой задачи как строку, разделите слова по пробелам и приведите к нижнему регистру."
      ]
    },
    {
      "cell_type": "code",
      "metadata": {
        "colab": {
          "base_uri": "https://localhost:8080/"
        },
        "id": "A-Ro4i8u-iHv",
        "outputId": "7b695f91-84f0-4d3d-cda5-adc6e4cf3a06"
      },
      "source": [
        "line = 'Создайте переменную, которая хранит описание этой задачи как строку, разделите слова по пробелам и приведите к нижнему регистру.'\n",
        "\n",
        "splitted_line = line.lower().split()\n",
        "print(splitted_line)"
      ],
      "execution_count": null,
      "outputs": [
        {
          "output_type": "stream",
          "text": [
            "['создайте', 'переменную,', 'которая', 'хранит', 'описание', 'этой', 'задачи', 'как', 'строку,', 'разделите', 'слова', 'по', 'пробелам', 'и', 'приведите', 'к', 'нижнему', 'регистру.']\n"
          ],
          "name": "stdout"
        }
      ]
    },
    {
      "cell_type": "markdown",
      "metadata": {
        "id": "nE4N_rxk-l-L"
      },
      "source": [
        "## Задание 7\n",
        "\n",
        "Напишите код, который проверяет, является ли переменная x строкой, и если да, то если в строке больше одного слова (слово--последовательность подряд идущих символов без пробелов), то выводит на экран количество слов в этой строке и сами слова в алфавитном порядке."
      ]
    },
    {
      "cell_type": "code",
      "metadata": {
        "colab": {
          "base_uri": "https://localhost:8080/"
        },
        "id": "INh5TwAM9Xmf",
        "outputId": "8ce8eb23-e495-4cc1-ecdc-24c4b67ea2d8"
      },
      "source": [
        "x = 'z hello world'\n",
        "if (len(x) > 1) and (' ' in x):\n",
        "    split_x = x.split()\n",
        "    split_x.sort()\n",
        "    print(len(split_x))\n",
        "    print(split_x)\n"
      ],
      "execution_count": null,
      "outputs": [
        {
          "output_type": "stream",
          "text": [
            "3\n",
            "['hello', 'world', 'z']\n"
          ],
          "name": "stdout"
        }
      ]
    },
    {
      "cell_type": "markdown",
      "metadata": {
        "id": "TR1Wvx_Z-tlI"
      },
      "source": [
        "## Задание 8\n",
        "\n",
        "Напишите код, который все элементы массива x с **нечетными** индексами переставит в обратном порядке.\n",
        "\n",
        "Т.е. если x = [0, 1, 2, 3, 4, 5, 6, 7, 8, 9], то код должен получать [0, 9, 2, 7, 4, 5, 6, 3, 8, 1]"
      ]
    },
    {
      "cell_type": "code",
      "metadata": {
        "colab": {
          "base_uri": "https://localhost:8080/"
        },
        "id": "hh2ackf09QjM",
        "outputId": "ca329920-95c3-48a3-bd68-38e9b9f9937d"
      },
      "source": [
        "#ver1\n",
        "x = [0, 1, 2, 3, 4, 5, 6, 7, 8, 9]\n",
        "x[1::2] = reversed(x[1::2])\n",
        "print(x)\n",
        "\n",
        "#ver2\n",
        "x = [0, 1, 2, 3, 4, 5, 6, 7, 8, 9]\n",
        "y = x[::-1]\n",
        "x[1::2] = y[0::2]\n",
        "print(x)"
      ],
      "execution_count": null,
      "outputs": [
        {
          "output_type": "stream",
          "text": [
            "[0, 9, 2, 7, 4, 5, 6, 3, 8, 1]\n",
            "[9, 8, 7, 6, 5, 4, 3, 2, 1, 0]\n",
            "[0, 9, 2, 7, 4, 5, 6, 3, 8, 1]\n"
          ],
          "name": "stdout"
        }
      ]
    },
    {
      "cell_type": "markdown",
      "metadata": {
        "id": "pdGccRcP-1CC"
      },
      "source": [
        "## Задание 9\n",
        "\n",
        "Напишите цикл, который выводит все числа от 0 до 500, делящиеся на 7, если в них есть цифра 8.\n",
        "\n",
        "*Подсказка*: переменную типа int можно привести к типу str:\n",
        "```\n",
        "x = 5\n",
        "y = str(x)\n",
        "```"
      ]
    },
    {
      "cell_type": "code",
      "metadata": {
        "id": "XAosJEH7sCmT"
      },
      "source": [
        "for i in range(0,500):\n",
        "    if (i%7 == 0) and ('8' in str(i)):\n",
        "        print(i)"
      ],
      "execution_count": null,
      "outputs": []
    },
    {
      "cell_type": "markdown",
      "metadata": {
        "id": "TVh-gw54BqEm"
      },
      "source": [
        "## Задание 10\n",
        "\n",
        "1. Создайте список `a`, состоящий из каких-то элементов.\n",
        "2. Создайте список `b` такого же размера, как `a`, состоящий из каких-то элементов.\n",
        "3. Выведите **нумерованный список пар** из элементов списков `a` и `b`."
      ]
    },
    {
      "cell_type": "code",
      "metadata": {
        "colab": {
          "base_uri": "https://localhost:8080/"
        },
        "id": "WkDpiGDsBcus",
        "outputId": "5202ec5b-13c8-4f54-ffa4-c0222de0411d"
      },
      "source": [
        "# Ваш код здесь\n",
        "# варианты решения ниже\n",
        "a = ['a','s','d',1,2]\n",
        "b = [0,9,8,'f','g']\n",
        "print(list(enumerate(zip(a, b))))"
      ],
      "execution_count": null,
      "outputs": [
        {
          "output_type": "stream",
          "text": [
            "[(0, ('a', 0)), (1, ('s', 9)), (2, ('d', 8)), (3, (1, 'f')), (4, (2, 'g'))]\n"
          ],
          "name": "stdout"
        }
      ]
    },
    {
      "cell_type": "markdown",
      "metadata": {
        "id": "51DfEzj3B1gV"
      },
      "source": [
        "## Задание 11\n",
        "\n",
        "Дан массив строк mas. Одной строкой создайте словарь, в котором по ключу строки будет записана пара (кортеж длины 2) (индекс строки в массиве mas, длина строки)"
      ]
    },
    {
      "cell_type": "code",
      "metadata": {
        "colab": {
          "base_uri": "https://localhost:8080/"
        },
        "id": "azytv3ENBuH5",
        "outputId": "d3677dc9-8670-4f93-8725-e0c2f7a70c53"
      },
      "source": [
        "mas = ['abc', 'hello', 'w']\n",
        "print({i: (id, len(i)) for id, i in enumerate(mas)})\n"
      ],
      "execution_count": null,
      "outputs": [
        {
          "output_type": "stream",
          "text": [
            "{'abc': (0, 3), 'hello': (1, 5), 'w': (2, 1)}\n"
          ],
          "name": "stdout"
        }
      ]
    },
    {
      "cell_type": "markdown",
      "metadata": {
        "id": "NNgNKKtUB-7d"
      },
      "source": [
        "## Задание 12\n",
        "\n",
        "Релизовать функцию, которая возвращает сумму всех позиционных и именованных аргументов."
      ]
    },
    {
      "cell_type": "code",
      "metadata": {
        "colab": {
          "base_uri": "https://localhost:8080/"
        },
        "id": "8MrgHc1eB47J",
        "outputId": "6d38ab8e-7519-4968-c6e0-7a9ec4a733d1"
      },
      "source": [
        "def func(*args, **kwargs):\n",
        "    res = sum(args)\n",
        "    for i in kwargs:\n",
        "        res += kwargs[i]\n",
        "    return res\n",
        "\n",
        "print(func(1, 2, 3, a=4, b=5))"
      ],
      "execution_count": null,
      "outputs": [
        {
          "output_type": "stream",
          "text": [
            "15\n"
          ],
          "name": "stdout"
        }
      ]
    },
    {
      "cell_type": "markdown",
      "metadata": {
        "id": "l-3fE5H-CIqe"
      },
      "source": [
        "## Задание 13\n",
        "\n",
        "Реализовать функцию, которая сохраняет в 2 глобальные переменные:\n",
        "* сумму всех позиционных аргументов - релизовать через  lambda;\n",
        "* название всех именованных аргументов в виде списка."
      ]
    },
    {
      "cell_type": "code",
      "metadata": {
        "colab": {
          "base_uri": "https://localhost:8080/"
        },
        "id": "Nhp1NLZJCGXI",
        "outputId": "9d1547d6-cf70-4765-8c20-a2254edae80f"
      },
      "source": [
        "summ = 0\n",
        "names = []\n",
        "\n",
        "def another_func(*args, **kwargs):\n",
        "    global summ #, names\n",
        "    s_func = lambda args: sum(args) \n",
        "    summ = s_func(args)\n",
        "    for i in kwargs:\n",
        "        names.append(i)\n",
        "    return summ, names\n",
        "\n",
        "another_func(1, 2, 3, a=4, b=5)\n",
        "\n",
        "print(f'Cумма {summ}, названия {names}')"
      ],
      "execution_count": 1,
      "outputs": [
        {
          "output_type": "stream",
          "text": [
            "Cумма 6, названия ['a', 'b']\n"
          ],
          "name": "stdout"
        }
      ]
    },
    {
      "cell_type": "markdown",
      "metadata": {
        "id": "HPbaEwHLCTLI"
      },
      "source": [
        "## Задание 14\n",
        "\n",
        "Реализовать класс с 2 функциями:\n",
        "\n",
        "*   Первая функция копирует функционал задачи №13, но сохраняет переменные в области видимости класса;\n",
        "*   Вторая функция отображает на экран сумму и названия именованных аргументов.\n",
        "\n"
      ]
    },
    {
      "cell_type": "code",
      "metadata": {
        "colab": {
          "base_uri": "https://localhost:8080/"
        },
        "id": "FvqwsvY4COmH",
        "outputId": "234f7b14-555f-4da3-d013-c3134587bf39"
      },
      "source": [
        "class Solution():\n",
        "         \n",
        "\n",
        "    def __init__(self, *args, **kwargs):\n",
        "        self.args = args\n",
        "        self.kwargs = kwargs\n",
        "        self.summ = 0\n",
        "        self.names = []\n",
        "        \n",
        "    def another_func(self, *args, **kwargs):\n",
        "        s_func = lambda args: sum(args) \n",
        "        self.summ = s_func(args)\n",
        "        for i in kwargs:\n",
        "            self.names.append(i)\n",
        "        return self.summ, self.names\n",
        "\n",
        "    def print_args_kwargs(self):\n",
        "        print(f'Cумма {self.summ}, названия {self.names}')\n",
        "\n",
        "class_obj = Solution()\n",
        "class_obj.another_func(1, 2, 3, a=4, b=5)\n",
        "class_obj.print_args_kwargs()"
      ],
      "execution_count": null,
      "outputs": [
        {
          "output_type": "stream",
          "text": [
            "Cумма 6, названия ['a', 'b']\n"
          ],
          "name": "stdout"
        }
      ]
    },
    {
      "cell_type": "markdown",
      "metadata": {
        "id": "bFpjX8oQ9GLV"
      },
      "source": [
        "<div style=\"background:red\">&nbsp;</div>\n",
        "<h1>Занятие 2</h1>\n",
        "<div style=\"background:red\">&nbsp;</div>"
      ]
    },
    {
      "cell_type": "code",
      "metadata": {
        "id": "D-Lc19J4WL-3"
      },
      "source": [
        "# загрузим библиотеки\n",
        "import numpy as np\n",
        "import pandas as pd\n"
      ],
      "execution_count": 2,
      "outputs": []
    },
    {
      "cell_type": "markdown",
      "metadata": {
        "id": "ZYcKnimkFRrD"
      },
      "source": [
        "## Задание 1\n",
        "\n",
        "Создайте массив массив из 100 элементов (от 1 до 100), переформатируйте в формат (10 * 10), сделайте слайсинг с шагом 2 по каждой оси."
      ]
    },
    {
      "cell_type": "code",
      "metadata": {
        "colab": {
          "base_uri": "https://localhost:8080/"
        },
        "id": "wAPfX3erFUqa",
        "outputId": "44ed1982-9752-400e-e469-3c218fd744a3"
      },
      "source": [
        "mas = np.array(range(1,101))\n",
        "#print(mas)\n",
        "mas.shape = (10,10)\n",
        "mas[::2,::2]"
      ],
      "execution_count": 41,
      "outputs": [
        {
          "output_type": "stream",
          "text": [
            "[  1   2   3   4   5   6   7   8   9  10  11  12  13  14  15  16  17  18\n",
            "  19  20  21  22  23  24  25  26  27  28  29  30  31  32  33  34  35  36\n",
            "  37  38  39  40  41  42  43  44  45  46  47  48  49  50  51  52  53  54\n",
            "  55  56  57  58  59  60  61  62  63  64  65  66  67  68  69  70  71  72\n",
            "  73  74  75  76  77  78  79  80  81  82  83  84  85  86  87  88  89  90\n",
            "  91  92  93  94  95  96  97  98  99 100]\n"
          ],
          "name": "stdout"
        },
        {
          "output_type": "execute_result",
          "data": {
            "text/plain": [
              "array([[ 1,  3,  5,  7,  9],\n",
              "       [21, 23, 25, 27, 29],\n",
              "       [41, 43, 45, 47, 49],\n",
              "       [61, 63, 65, 67, 69],\n",
              "       [81, 83, 85, 87, 89]])"
            ]
          },
          "metadata": {
            "tags": []
          },
          "execution_count": 41
        }
      ]
    },
    {
      "cell_type": "markdown",
      "metadata": {
        "id": "SrI3heKeV7nP"
      },
      "source": [
        "## Задание 2\n",
        "\n",
        "Написать функцию, которая по заданной длине последовательности находит среднее арифметическое ее членов.\n",
        "\n",
        "Реализуйте задачу с и без помощи numpy, сравните время выполнения"
      ]
    },
    {
      "cell_type": "code",
      "metadata": {
        "colab": {
          "base_uri": "https://localhost:8080/"
        },
        "id": "2-5-E2pCV_Ot",
        "outputId": "2efcb1da-8569-42ab-c7cf-d2a86771df56"
      },
      "source": [
        "# решение с использованием numpy\n",
        "# для оценки времени исоплнения блока\n",
        "%%time\n",
        "# зададим длину нашей последовательности\n",
        "dlina_posl = 100000000\n",
        "\n",
        "# ваш код тут\n",
        "def my_avg(dlina_posl):\n",
        "    a = np.array(range(0, dlina_posl))\n",
        "    return a.mean()\n",
        "\n",
        "print(f'Среднее арифметическое последовательности: {my_avg(dlina_posl)}')"
      ],
      "execution_count": 25,
      "outputs": [
        {
          "output_type": "stream",
          "text": [
            "Среднее арифметическое последовательности: 49999999.5\n",
            "CPU times: user 14.9 s, sys: 4.87 s, total: 19.8 s\n",
            "Wall time: 19.8 s\n"
          ],
          "name": "stdout"
        }
      ]
    },
    {
      "cell_type": "code",
      "metadata": {
        "colab": {
          "base_uri": "https://localhost:8080/"
        },
        "id": "9e3X5PEpWBjA",
        "outputId": "f7cd30e6-4571-4465-d840-cc74f4ad5567"
      },
      "source": [
        "# решение без использования numpy\n",
        "# для оценки времени исоплнения блока\n",
        "%%time\n",
        "\n",
        "# ваш код тут\n",
        "def my_avg(dlina_posl):\n",
        "    a = range(0, dlina_posl)\n",
        "    i = 0\n",
        "    sum_posl = 0\n",
        "    while i < dlina_posl:\n",
        "        sum_posl += a[i]\n",
        "        i += 1\n",
        "    return sum_posl / dlina_posl\n",
        "\n",
        "print(f'Среднее арифметическое последовательности: {my_avg(dlina_posl)}')"
      ],
      "execution_count": 26,
      "outputs": [
        {
          "output_type": "stream",
          "text": [
            "Среднее арифметическое последовательности: 49999999.5\n",
            "CPU times: user 18.7 s, sys: 570 µs, total: 18.7 s\n",
            "Wall time: 18.8 s\n"
          ],
          "name": "stdout"
        }
      ]
    },
    {
      "cell_type": "markdown",
      "metadata": {
        "id": "aF_IhXzJFWzJ"
      },
      "source": [
        "## Задание 3\n",
        "\n",
        "Задан Series объект s, найти индекс первого элемента отсортированного s, где значения больше 5"
      ]
    },
    {
      "cell_type": "code",
      "metadata": {
        "colab": {
          "base_uri": "https://localhost:8080/"
        },
        "id": "PzrBc2RRFYom",
        "outputId": "18a34383-0dcc-4e79-881f-85bf0be18d33"
      },
      "source": [
        "# задано изначально\n",
        "r = np.random.RandomState(1)\n",
        "s=pd.Series(r.uniform(0, 10, 100))\n",
        "#print(s)\n",
        "s_sort = s.sort_values()\n",
        "#print(s_sort)\n",
        "print(s_sort[s_sort > 5].index[0])"
      ],
      "execution_count": 31,
      "outputs": [
        {
          "output_type": "stream",
          "text": [
            "67\n"
          ],
          "name": "stdout"
        }
      ]
    },
    {
      "cell_type": "markdown",
      "metadata": {
        "id": "lK7mPJPRWcs2"
      },
      "source": [
        "## Задание 4\n",
        "\n",
        "Предположим, что мы наблюдаем за некоторым признаком нашего датасета, но в данных есть пропуски. Ваша задача: реализовать алгоритм заполнения пропущенных значений последним известным с помощью средств python и pandas. (подсказка: вам может помочь функция np.isnan(), которая возвращает True, если число - nan. Для реализации с пандас стоит посмотреть на метод .fillna).\n",
        "\n",
        "Изначальный код с инициализацией такого датасета предоставлен."
      ]
    },
    {
      "cell_type": "code",
      "metadata": {
        "colab": {
          "base_uri": "https://localhost:8080/",
          "height": 282
        },
        "id": "Eu5g1x-hWcA1",
        "outputId": "245a6563-77ed-4d25-dae4-71f9ff04c3e7"
      },
      "source": [
        "# импортируем библиотеку для создания шума\n",
        "import random\n",
        "# библиотека для визуализации\n",
        "import matplotlib.pyplot as plt\n",
        "\n",
        "# создадим наши данные и добавим к каждой точке синусоиды случайный шум\n",
        "a = np.linspace(0, 25, 100)\n",
        "a = np.sin(a) + [random.gauss(0, 0.2) for i in range(len(a))]\n",
        "\n",
        "# создадим 10 случайных пропусков\n",
        "for i in range(10):\n",
        "    a[random.randint(0, len(a) - 1)] = None\n",
        "# создадим датафрейм\n",
        "df = pd.DataFrame({'target':a})\n",
        "\n",
        "# ваш код тут\n",
        "df = df.fillna(method ='pad')\n",
        "\n",
        "# отобразим\n",
        "plt.plot(df.target.values)"
      ],
      "execution_count": 38,
      "outputs": [
        {
          "output_type": "execute_result",
          "data": {
            "text/plain": [
              "[<matplotlib.lines.Line2D at 0x7fb5e0675350>]"
            ]
          },
          "metadata": {
            "tags": []
          },
          "execution_count": 38
        },
        {
          "output_type": "display_data",
          "data": {
            "image/png": "[encoded data removed]",
            "text/plain": [
              "<Figure size 432x288 with 1 Axes>"
            ]
          },
          "metadata": {
            "tags": [],
            "needs_background": "light"
          }
        }
      ]
    },
    {
      "cell_type": "markdown",
      "metadata": {
        "id": "5gYj1TeyW9Aq"
      },
      "source": [
        "## Задание 5\n",
        "\n",
        "Имеется небольшой игрушечный датафрейм, в котором необходимо провести несколько типов фильтраций (ответы ищите в решениях) и отобразить результат:\n",
        "\n",
        "* всех, кто старше 40\n",
        "* всех, кто имеет доход выше среднего по датасету\n",
        "* всех, кто имеет доход выше среднего по датасету, но надежность ниже среднего по датасету\n",
        "\n",
        "создать новые столбцы:\n",
        "\n",
        "* важность клиента = доход * надежность\n",
        "* возможная долгосрочность клиента = важность клиента * (средний возраст по датасету - возраст клиента)\n",
        "\n",
        "`подсказка: двойные условия записываются так: (условие 1) & (условие 2)`\n",
        "\n",
        "\n",
        "** примечание: столбцы не имеют отношения к реальным формулам или моделям, они необходимы только для наглядности"
      ]
    },
    {
      "cell_type": "code",
      "metadata": {
        "colab": {
          "base_uri": "https://localhost:8080/"
        },
        "id": "vHvedF6tXAWF",
        "outputId": "cdcdb587-5403-4b2e-8a72-a6620cfd1d72"
      },
      "source": [
        "# создадим тестовый датасет\n",
        "df = pd.DataFrame({\n",
        "    'имя': ['Петя', 'Вася', 'Аня', 'Света'],\n",
        "    'возраст': [45, 26, 41 , 21],\n",
        "    'доход': [100000, 80000, 150000, 60000],\n",
        "    'надежность клиента (0..1)': [0.65, 0.74, 0.87, 0.68],\n",
        "    'пол': ['муж', 'муж', 'жен', 'жен']},\n",
        "    index=[0, 1, 2, 3])\n",
        "\n",
        "# ваш код тут\n",
        "print(df[df.возраст > 40],'\\n')\n",
        "print(df[df.доход > df.доход.mean()],'\\n')\n",
        "print(df[(df.доход > df.доход.mean()) & (df['надежность клиента (0..1)'] < df['надежность клиента (0..1)'].mean())],'\\n')\n",
        "\n",
        "df['важность клиента'] = df['доход'] * df['надежность клиента (0..1)']\n",
        "df['возможная долгосрочность клиента'] = df['важность клиента'] * (df['возраст'].mean() - df['возраст'])\n",
        "print(df)"
      ],
      "execution_count": 10,
      "outputs": [
        {
          "output_type": "stream",
          "text": [
            "    имя  возраст   доход  надежность клиента (0..1)  пол\n",
            "0  Петя       45  100000                       0.65  муж\n",
            "2   Аня       41  150000                       0.87  жен \n",
            "\n",
            "    имя  возраст   доход  надежность клиента (0..1)  пол\n",
            "0  Петя       45  100000                       0.65  муж\n",
            "2   Аня       41  150000                       0.87  жен \n",
            "\n",
            "    имя  возраст   доход  надежность клиента (0..1)  пол\n",
            "0  Петя       45  100000                       0.65  муж \n",
            "\n",
            "     имя  возраст  ...  важность клиента  возможная долгосрочность клиента\n",
            "0   Петя       45  ...           65000.0                         -763750.0\n",
            "1   Вася       26  ...           59200.0                          429200.0\n",
            "2    Аня       41  ...          130500.0                        -1011375.0\n",
            "3  Света       21  ...           40800.0                          499800.0\n",
            "\n",
            "[4 rows x 7 columns]\n"
          ],
          "name": "stdout"
        }
      ]
    },
    {
      "cell_type": "markdown",
      "metadata": {
        "id": "MxFoJ2LubuYU"
      },
      "source": [
        "## Задание 6\n",
        "\n",
        "Посмотрите на блок Exploratory data analysis, используйте данные, кототрые вы загрузили в ходе его освоения. Ваша задача - вывести имена всех выживших детей и их количество"
      ]
    },
    {
      "cell_type": "code",
      "metadata": {
        "id": "i1IrZOJ1uQVw",
        "colab": {
          "base_uri": "https://localhost:8080/"
        },
        "outputId": "e0cd7896-2db7-48e0-9922-1e86a1576c8b"
      },
      "source": [
        "data = pd.read_csv('https://web.stanford.edu/class/archive/cs/cs109/cs109.1166/stuff/titanic.csv')\n",
        "pd.set_option('display.max_rows', None)\n",
        "pd.set_option('display.max_colwidth', None)\n",
        "#print(data.info())\n",
        "s_child = data[(data.Survived == 1) & (data.Age < 18)]['Name']\n",
        "print(s_child.tolist())\n",
        "print(s_child.count())"
      ],
      "execution_count": 31,
      "outputs": [
        {
          "output_type": "stream",
          "text": [
            "9                                                     Mrs. Nicholas (Adele Achem) Nasser\n",
            "10                                                        Miss. Marguerite Rut Sandstrom\n",
            "22                                                                    Miss. Anna McGowan\n",
            "39                                                            Miss. Jamila Nicola-Yarred\n",
            "42                                               Miss. Simonne Marie Anne Andree Laroche\n",
            "57                                                           Miss. Constance Mirium West\n",
            "64                                                               Master. Gerios Moubarek\n",
            "67                                                        Miss. Erna Alexandra Andersson\n",
            "77                                                          Master. Alden Gates Caldwell\n",
            "83                                                                    Miss. Bertha Ilett\n",
            "124                                                          Master. Elias Nicola-Yarred\n",
            "127                                                                     Miss. Anna Peter\n",
            "155                                                              Miss. Katherine Gilnagh\n",
            "164                                                 Master. Frank John William Goldsmith\n",
            "171                                                          Miss. Eleanor Ileen Johnson\n",
            "182                                                             Master. Richard F Becker\n",
            "183                                                   Miss. Luise Gretchen Kink-Heilmann\n",
            "192                                                            Master. Michel M Navratil\n",
            "207                                                                     Miss. Helen Carr\n",
            "219                                                        Mr. Victor Francis Sunderland\n",
            "232                                                        Miss. Lillian Gertrud Asplund\n",
            "236                                                               Miss. Marjorie Collyer\n",
            "259                                                     Master. Edvin Rojj Felix Asplund\n",
            "303                                                        Master. Hudson Trevor Allison\n",
            "305    Mrs. Victor de Satode (Maria Josefa Perez de Soto y Vallejo) Penasco y Castellana\n",
            "327                                                          Miss. Jean Gertrude Hippach\n",
            "338                                                        Master. Edmond Roger Navratil\n",
            "346                                                          Master. William Loch Coutts\n",
            "379                                                                    Miss. Maria Nakid\n",
            "387                                                                 Miss. Bertha Lehmann\n",
            "405                                                        Master. William Rowe Richards\n",
            "432                                                             Miss. Lucile Polk Carter\n",
            "442                                                             Master. Washington Dodge\n",
            "443                                                     Miss. Madeleine Violet Mellinger\n",
            "445                                                        Miss. Marie Catherine Baclini\n",
            "466                                                         Miss. Helene Barbara Baclini\n",
            "476                                                              Miss. Hildur E Hirvonen\n",
            "486                                                           Master. Eden Leslie Coutts\n",
            "501                                                                 Miss. Roberta Maioni\n",
            "527                                                              Miss. Phyllis May Quick\n",
            "532                                                                Miss. Eva Miriam Hart\n",
            "546                                                        Master. John Morgan Jr Davies\n",
            "547                                                           Mr. John Borland Jr Thayer\n",
            "615                                                           Miss. Marion Louise Becker\n",
            "641                                                                Miss. Eugenie Baclini\n",
            "650                                                                 Miss. Hanora O'Leary\n",
            "686                                                     Miss. Georgette Alexandra Madill\n",
            "688                                                                    Miss. Manca Karun\n",
            "706                                                        Master. Halim Gonios Moubarek\n",
            "716                                                            Miss. Annie Jessie Harper\n",
            "746                                                                     Miss. Joan Wells\n",
            "747                                                                   Master. Meier Moor\n",
            "751                                                             Master. Viljo Hamalainen\n",
            "773                                                         Miss. Virginia Ethel Emanuel\n",
            "776                                                                  Miss. Banoura Ayoub\n",
            "777                                             Mrs. Albert Adrian (Vera Gillespie) Dick\n",
            "784                                                            Master. Bertram Vere Dean\n",
            "798                                                   Master. William Thornton II Carter\n",
            "799                                                       Master. Assad Alexander Thomas\n",
            "823                                                                 Master. Andre Mallet\n",
            "826                                               Mrs. Antoni (Selini Alexander) Yasbeck\n",
            "827                                                       Master. George Sibley Richards\n",
            "849                                                             Miss. Mary Conover Lines\n",
            "865                                                       Master. Harold Theodor Johnson\n",
            "871                                                             Miss. Adele Kiamie Najib\n",
            "Name: Name, dtype: object\n"
          ],
          "name": "stdout"
        }
      ]
    },
    {
      "cell_type": "code",
      "metadata": {
        "id": "yCXtLEbCuTvU",
        "outputId": "62da1224-9616-4c4a-fa14-cb1c22517663"
      },
      "source": [
        "data"
      ],
      "execution_count": null,
      "outputs": [
        {
          "output_type": "execute_result",
          "data": {
            "text/plain": [
              "['Mrs. Nicholas (Adele Achem) Nasser',\n",
              " 'Miss. Marguerite Rut Sandstrom',\n",
              " 'Miss. Anna McGowan',\n",
              " 'Miss. Jamila Nicola-Yarred',\n",
              " 'Miss. Simonne Marie Anne Andree Laroche',\n",
              " 'Miss. Constance Mirium West',\n",
              " 'Master. Gerios Moubarek',\n",
              " 'Miss. Erna Alexandra Andersson',\n",
              " 'Master. Alden Gates Caldwell',\n",
              " 'Miss. Bertha Ilett',\n",
              " 'Master. Elias Nicola-Yarred',\n",
              " 'Miss. Anna Peter',\n",
              " 'Miss. Katherine Gilnagh',\n",
              " 'Master. Frank John William Goldsmith',\n",
              " 'Miss. Eleanor Ileen Johnson',\n",
              " 'Master. Richard F Becker',\n",
              " 'Miss. Luise Gretchen Kink-Heilmann',\n",
              " 'Master. Michel M Navratil',\n",
              " 'Miss. Helen Carr',\n",
              " 'Mr. Victor Francis Sunderland',\n",
              " 'Miss. Lillian Gertrud Asplund',\n",
              " 'Miss. Marjorie Collyer',\n",
              " 'Master. Edvin Rojj Felix Asplund',\n",
              " 'Master. Hudson Trevor Allison',\n",
              " 'Mrs. Victor de Satode (Maria Josefa Perez de Soto y Vallejo) Penasco y Castellana',\n",
              " 'Miss. Jean Gertrude Hippach',\n",
              " 'Master. Edmond Roger Navratil',\n",
              " 'Master. William Loch Coutts',\n",
              " 'Miss. Maria Nakid',\n",
              " 'Miss. Bertha Lehmann',\n",
              " 'Master. William Rowe Richards',\n",
              " 'Miss. Lucile Polk Carter',\n",
              " 'Master. Washington Dodge',\n",
              " 'Miss. Madeleine Violet Mellinger',\n",
              " 'Miss. Marie Catherine Baclini',\n",
              " 'Miss. Helene Barbara Baclini',\n",
              " 'Miss. Hildur E Hirvonen',\n",
              " 'Master. Eden Leslie Coutts',\n",
              " 'Miss. Roberta Maioni',\n",
              " 'Miss. Phyllis May Quick',\n",
              " 'Miss. Eva Miriam Hart',\n",
              " 'Master. John Morgan Jr Davies',\n",
              " 'Mr. John Borland Jr Thayer',\n",
              " 'Miss. Marion Louise Becker',\n",
              " 'Miss. Eugenie Baclini',\n",
              " \"Miss. Hanora O'Leary\",\n",
              " 'Miss. Georgette Alexandra Madill',\n",
              " 'Miss. Manca Karun',\n",
              " 'Master. Halim Gonios Moubarek',\n",
              " 'Miss. Annie Jessie Harper',\n",
              " 'Miss. Joan Wells',\n",
              " 'Master. Meier Moor',\n",
              " 'Master. Viljo Hamalainen',\n",
              " 'Miss. Virginia Ethel Emanuel',\n",
              " 'Miss. Banoura Ayoub',\n",
              " 'Mrs. Albert Adrian (Vera Gillespie) Dick',\n",
              " 'Master. Bertram Vere Dean',\n",
              " 'Master. William Thornton II Carter',\n",
              " 'Master. Assad Alexander Thomas',\n",
              " 'Master. Andre Mallet',\n",
              " 'Mrs. Antoni (Selini Alexander) Yasbeck',\n",
              " 'Master. George Sibley Richards',\n",
              " 'Miss. Mary Conover Lines',\n",
              " 'Master. Harold Theodor Johnson',\n",
              " 'Miss. Adele Kiamie Najib']"
            ]
          },
          "metadata": {
            "tags": []
          },
          "execution_count": 73
        }
      ]
    },
    {
      "cell_type": "code",
      "metadata": {
        "id": "gLgxcDD-9GLc",
        "outputId": "7664f6a1-6dde-4d7f-cc42-55611437d660"
      },
      "source": [
        ""
      ],
      "execution_count": null,
      "outputs": [
        {
          "output_type": "execute_result",
          "data": {
            "text/plain": [
              "65"
            ]
          },
          "metadata": {
            "tags": []
          },
          "execution_count": 74
        }
      ]
    }
  ]
}